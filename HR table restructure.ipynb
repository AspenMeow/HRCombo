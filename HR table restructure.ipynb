{
 "cells": [
  {
   "cell_type": "code",
   "execution_count": 5,
   "metadata": {},
   "outputs": [],
   "source": [
    "%run \"H:\\Python\\connect to database.py\""
   ]
  },
  {
   "cell_type": "code",
   "execution_count": 7,
   "metadata": {},
   "outputs": [],
   "source": [
    "ASGN = pd.read_sql('select * from HR.hr_pa_fas_assignment_v', EDW)"
   ]
  },
  {
   "cell_type": "code",
   "execution_count": 9,
   "metadata": {},
   "outputs": [
    {
     "data": {
      "text/plain": [
       "Index(['pers_nbr', 'start_date', 'end_date', 'prim_asgn_also_rpt_to_2',\n",
       "       'prim_asgn_also_rpt_to_3', 'prim_asgn_also_rpt_to_4',\n",
       "       'prim_asgn_also_rpt_to_5', 'fas_asgn_nbr_2', 'asgn_typ_cd_2',\n",
       "       'asgn_typ_nm_2', 'fas_asgn_nbr_2_org_cd_1', 'fas_asgn_nbr_2_org_cd_2',\n",
       "       'fas_asgn_nbr_2_org_cd_3', 'fas_asgn_nbr_2_org_cd_4',\n",
       "       'fas_asgn_nbr_2_org_cd_5', 'fas_asgn_nm_2', 'emp_cat_cd_2',\n",
       "       'emp_cat_nm_2', 'shrt_txt_2', 'fas_asgn_nbr_3', 'asgn_typ_cd_3',\n",
       "       'asgn_typ_nm_3', 'fas_asgn_nbr_3_org_cd_1', 'fas_asgn_nbr_3_org_cd_2',\n",
       "       'fas_asgn_nbr_3_org_cd_3', 'fas_asgn_nbr_3_org_cd_4',\n",
       "       'fas_asgn_nbr_3_org_cd_5', 'fas_asgn_nm_3', 'emp_cat_cd_3',\n",
       "       'emp_cat_nm_3', 'shrt_txt_3', 'fas_asgn_nbr_4', 'asgn_typ_cd_4',\n",
       "       'asgn_typ_nm_4', 'fas_asgn_nbr_4_org_cd_1', 'fas_asgn_nbr_4_org_cd_2',\n",
       "       'fas_asgn_nbr_4_org_cd_3', 'fas_asgn_nbr_4_org_cd_4',\n",
       "       'fas_asgn_nbr_4_org_cd_5', 'fas_asgn_nm_4', 'emp_cat_cd_4',\n",
       "       'emp_cat_nm_4', 'shrt_txt_4', 'fas_asgn_nbr_5', 'asgn_typ_cd_5',\n",
       "       'asgn_typ_nm_5', 'fas_asgn_nbr_5_org_cd_1', 'fas_asgn_nbr_5_org_cd_2',\n",
       "       'fas_asgn_nbr_5_org_cd_3', 'fas_asgn_nbr_5_org_cd_4',\n",
       "       'fas_asgn_nbr_5_org_cd_5', 'fas_asgn_nm_5', 'emp_cat_cd_5',\n",
       "       'emp_cat_nm_5', 'shrt_txt_5', 'fas_asgn_long_nm_2',\n",
       "       'fas_asgn_long_nm_3', 'fas_asgn_long_nm_4', 'fas_asgn_long_nm_5',\n",
       "       'endow_ind_2', 'endow_ind_3', 'endow_ind_4', 'endow_ind_5',\n",
       "       'fac_rnk_cd_2', 'fac_rnk_nm_2', 'fac_ttl_ind_2', 'fac_rnk_cd_3',\n",
       "       'fac_rnk_nm_3', 'fac_ttl_ind_3', 'fac_rnk_cd_4', 'fac_rnk_nm_4',\n",
       "       'fac_ttl_ind_4', 'fac_rnk_cd_5', 'fac_rnk_nm_5', 'fac_ttl_ind_5',\n",
       "       'curr_ind', 'src_last_updated_by', 'src_last_update_date', 'created_by',\n",
       "       'create_date', 'last_updated_by', 'last_update_date'],\n",
       "      dtype='object')"
      ]
     },
     "execution_count": 9,
     "metadata": {},
     "output_type": "execute_result"
    }
   ],
   "source": [
    "ASGN.columns"
   ]
  },
  {
   "cell_type": "code",
   "execution_count": 71,
   "metadata": {},
   "outputs": [],
   "source": [
    "import re\n",
    "orgcol =[x for x in ASGN.columns if re.match(r'prim_asgn_also_rpt_to_\\d',x) or re.match(r'\\w+_org_cd_\\d+',x) or \\\n",
    " x in ['pers_nbr','start_date','end_date'] ]"
   ]
  },
  {
   "cell_type": "code",
   "execution_count": 72,
   "metadata": {},
   "outputs": [],
   "source": [
    "orgdf = ASGN.filter(items=orgcol)"
   ]
  },
  {
   "cell_type": "code",
   "execution_count": 73,
   "metadata": {},
   "outputs": [],
   "source": [
    "orgdfL = orgdf.melt(id_vars=['pers_nbr','start_date','end_date'], var_name='type', value_name='org_cd')"
   ]
  },
  {
   "cell_type": "code",
   "execution_count": 74,
   "metadata": {},
   "outputs": [],
   "source": [
    "orgdfL = orgdfL.dropna()"
   ]
  },
  {
   "cell_type": "code",
   "execution_count": 75,
   "metadata": {},
   "outputs": [
    {
     "data": {
      "text/html": [
       "<div>\n",
       "<style scoped>\n",
       "    .dataframe tbody tr th:only-of-type {\n",
       "        vertical-align: middle;\n",
       "    }\n",
       "\n",
       "    .dataframe tbody tr th {\n",
       "        vertical-align: top;\n",
       "    }\n",
       "\n",
       "    .dataframe thead th {\n",
       "        text-align: right;\n",
       "    }\n",
       "</style>\n",
       "<table border=\"1\" class=\"dataframe\">\n",
       "  <thead>\n",
       "    <tr style=\"text-align: right;\">\n",
       "      <th></th>\n",
       "      <th>pers_nbr</th>\n",
       "      <th>start_date</th>\n",
       "      <th>end_date</th>\n",
       "      <th>type</th>\n",
       "      <th>org_cd</th>\n",
       "    </tr>\n",
       "  </thead>\n",
       "  <tbody>\n",
       "    <tr>\n",
       "      <th>1</th>\n",
       "      <td>5150</td>\n",
       "      <td>2017-08-16</td>\n",
       "      <td>2018-06-30 00:00:00</td>\n",
       "      <td>prim_asgn_also_rpt_to_2</td>\n",
       "      <td>10010494</td>\n",
       "    </tr>\n",
       "    <tr>\n",
       "      <th>2</th>\n",
       "      <td>6091</td>\n",
       "      <td>2017-07-01</td>\n",
       "      <td>2018-06-30 00:00:00</td>\n",
       "      <td>prim_asgn_also_rpt_to_2</td>\n",
       "      <td>10034330</td>\n",
       "    </tr>\n",
       "    <tr>\n",
       "      <th>4</th>\n",
       "      <td>36278</td>\n",
       "      <td>2017-07-01</td>\n",
       "      <td>9999-12-31 00:00:00</td>\n",
       "      <td>prim_asgn_also_rpt_to_2</td>\n",
       "      <td>10034711</td>\n",
       "    </tr>\n",
       "    <tr>\n",
       "      <th>5</th>\n",
       "      <td>52446</td>\n",
       "      <td>2017-09-01</td>\n",
       "      <td>9999-12-31 00:00:00</td>\n",
       "      <td>prim_asgn_also_rpt_to_2</td>\n",
       "      <td>10022273</td>\n",
       "    </tr>\n",
       "    <tr>\n",
       "      <th>6</th>\n",
       "      <td>52470</td>\n",
       "      <td>2017-09-02</td>\n",
       "      <td>2017-12-31 00:00:00</td>\n",
       "      <td>prim_asgn_also_rpt_to_2</td>\n",
       "      <td>10004264</td>\n",
       "    </tr>\n",
       "  </tbody>\n",
       "</table>\n",
       "</div>"
      ],
      "text/plain": [
       "   pers_nbr start_date             end_date                     type    org_cd\n",
       "1      5150 2017-08-16  2018-06-30 00:00:00  prim_asgn_also_rpt_to_2  10010494\n",
       "2      6091 2017-07-01  2018-06-30 00:00:00  prim_asgn_also_rpt_to_2  10034330\n",
       "4     36278 2017-07-01  9999-12-31 00:00:00  prim_asgn_also_rpt_to_2  10034711\n",
       "5     52446 2017-09-01  9999-12-31 00:00:00  prim_asgn_also_rpt_to_2  10022273\n",
       "6     52470 2017-09-02  2017-12-31 00:00:00  prim_asgn_also_rpt_to_2  10004264"
      ]
     },
     "execution_count": 75,
     "metadata": {},
     "output_type": "execute_result"
    }
   ],
   "source": [
    "orgdfL.head()"
   ]
  },
  {
   "cell_type": "code",
   "execution_count": 76,
   "metadata": {},
   "outputs": [
    {
     "data": {
      "text/plain": [
       "1         prim_asgn_also_rpt_to_2\n",
       "15307     prim_asgn_also_rpt_to_3\n",
       "30638     prim_asgn_also_rpt_to_4\n",
       "47393     prim_asgn_also_rpt_to_5\n",
       "61160     fas_asgn_nbr_2_org_cd_1\n",
       "76481     fas_asgn_nbr_2_org_cd_2\n",
       "91798     fas_asgn_nbr_2_org_cd_3\n",
       "107088    fas_asgn_nbr_2_org_cd_4\n",
       "137636    fas_asgn_nbr_3_org_cd_1\n",
       "152988    fas_asgn_nbr_3_org_cd_2\n",
       "169362    fas_asgn_nbr_3_org_cd_3\n",
       "184652    fas_asgn_nbr_3_org_cd_4\n",
       "214099    fas_asgn_nbr_4_org_cd_1\n",
       "229497    fas_asgn_nbr_4_org_cd_2\n",
       "245812    fas_asgn_nbr_4_org_cd_3\n",
       "261102    fas_asgn_nbr_4_org_cd_4\n",
       "291686    fas_asgn_nbr_5_org_cd_1\n",
       "Name: type, dtype: object"
      ]
     },
     "execution_count": 76,
     "metadata": {},
     "output_type": "execute_result"
    }
   ],
   "source": [
    "orgdfL['type'].drop_duplicates()"
   ]
  },
  {
   "cell_type": "code",
   "execution_count": 77,
   "metadata": {},
   "outputs": [
    {
     "data": {
      "text/plain": [
       "(19531, 5)"
      ]
     },
     "execution_count": 77,
     "metadata": {},
     "output_type": "execute_result"
    }
   ],
   "source": [
    "orgdfL.shape"
   ]
  },
  {
   "cell_type": "code",
   "execution_count": 78,
   "metadata": {},
   "outputs": [
    {
     "name": "stderr",
     "output_type": "stream",
     "text": [
      "C:\\Users\\chendi4\\AppData\\Local\\Continuum\\anaconda3\\lib\\site-packages\\ipykernel_launcher.py:1: FutureWarning: currently extract(expand=None) means expand=False (return Index/Series/DataFrame) but in a future version of pandas this will be changed to expand=True (return DataFrame)\n",
      "  \"\"\"Entry point for launching an IPython kernel.\n"
     ]
    }
   ],
   "source": [
    "orgdfL['seq']= orgdfL['type'].str.extract(r'\\w+_(\\d)$')"
   ]
  },
  {
   "cell_type": "code",
   "execution_count": 84,
   "metadata": {},
   "outputs": [
    {
     "name": "stderr",
     "output_type": "stream",
     "text": [
      "C:\\Users\\chendi4\\AppData\\Local\\Continuum\\anaconda3\\lib\\site-packages\\ipykernel_launcher.py:1: FutureWarning: currently extract(expand=None) means expand=False (return Index/Series/DataFrame) but in a future version of pandas this will be changed to expand=True (return DataFrame)\n",
      "  \"\"\"Entry point for launching an IPython kernel.\n"
     ]
    }
   ],
   "source": [
    "orgdfL['asgngrp'] = orgdfL['type'].str.extract(r'(\\w+)_\\d$')"
   ]
  },
  {
   "cell_type": "code",
   "execution_count": 85,
   "metadata": {},
   "outputs": [
    {
     "data": {
      "text/html": [
       "<div>\n",
       "<style scoped>\n",
       "    .dataframe tbody tr th:only-of-type {\n",
       "        vertical-align: middle;\n",
       "    }\n",
       "\n",
       "    .dataframe tbody tr th {\n",
       "        vertical-align: top;\n",
       "    }\n",
       "\n",
       "    .dataframe thead th {\n",
       "        text-align: right;\n",
       "    }\n",
       "</style>\n",
       "<table border=\"1\" class=\"dataframe\">\n",
       "  <thead>\n",
       "    <tr style=\"text-align: right;\">\n",
       "      <th></th>\n",
       "      <th>type</th>\n",
       "      <th>seq</th>\n",
       "      <th>asgngrp</th>\n",
       "    </tr>\n",
       "  </thead>\n",
       "  <tbody>\n",
       "    <tr>\n",
       "      <th>1</th>\n",
       "      <td>prim_asgn_also_rpt_to_2</td>\n",
       "      <td>2</td>\n",
       "      <td>prim_asgn_also_rpt_to</td>\n",
       "    </tr>\n",
       "    <tr>\n",
       "      <th>15307</th>\n",
       "      <td>prim_asgn_also_rpt_to_3</td>\n",
       "      <td>3</td>\n",
       "      <td>prim_asgn_also_rpt_to</td>\n",
       "    </tr>\n",
       "    <tr>\n",
       "      <th>30638</th>\n",
       "      <td>prim_asgn_also_rpt_to_4</td>\n",
       "      <td>4</td>\n",
       "      <td>prim_asgn_also_rpt_to</td>\n",
       "    </tr>\n",
       "    <tr>\n",
       "      <th>47393</th>\n",
       "      <td>prim_asgn_also_rpt_to_5</td>\n",
       "      <td>5</td>\n",
       "      <td>prim_asgn_also_rpt_to</td>\n",
       "    </tr>\n",
       "    <tr>\n",
       "      <th>61160</th>\n",
       "      <td>fas_asgn_nbr_2_org_cd_1</td>\n",
       "      <td>1</td>\n",
       "      <td>fas_asgn_nbr_2_org_cd</td>\n",
       "    </tr>\n",
       "    <tr>\n",
       "      <th>76481</th>\n",
       "      <td>fas_asgn_nbr_2_org_cd_2</td>\n",
       "      <td>2</td>\n",
       "      <td>fas_asgn_nbr_2_org_cd</td>\n",
       "    </tr>\n",
       "    <tr>\n",
       "      <th>91798</th>\n",
       "      <td>fas_asgn_nbr_2_org_cd_3</td>\n",
       "      <td>3</td>\n",
       "      <td>fas_asgn_nbr_2_org_cd</td>\n",
       "    </tr>\n",
       "    <tr>\n",
       "      <th>107088</th>\n",
       "      <td>fas_asgn_nbr_2_org_cd_4</td>\n",
       "      <td>4</td>\n",
       "      <td>fas_asgn_nbr_2_org_cd</td>\n",
       "    </tr>\n",
       "    <tr>\n",
       "      <th>137636</th>\n",
       "      <td>fas_asgn_nbr_3_org_cd_1</td>\n",
       "      <td>1</td>\n",
       "      <td>fas_asgn_nbr_3_org_cd</td>\n",
       "    </tr>\n",
       "    <tr>\n",
       "      <th>152988</th>\n",
       "      <td>fas_asgn_nbr_3_org_cd_2</td>\n",
       "      <td>2</td>\n",
       "      <td>fas_asgn_nbr_3_org_cd</td>\n",
       "    </tr>\n",
       "    <tr>\n",
       "      <th>169362</th>\n",
       "      <td>fas_asgn_nbr_3_org_cd_3</td>\n",
       "      <td>3</td>\n",
       "      <td>fas_asgn_nbr_3_org_cd</td>\n",
       "    </tr>\n",
       "    <tr>\n",
       "      <th>184652</th>\n",
       "      <td>fas_asgn_nbr_3_org_cd_4</td>\n",
       "      <td>4</td>\n",
       "      <td>fas_asgn_nbr_3_org_cd</td>\n",
       "    </tr>\n",
       "    <tr>\n",
       "      <th>214099</th>\n",
       "      <td>fas_asgn_nbr_4_org_cd_1</td>\n",
       "      <td>1</td>\n",
       "      <td>fas_asgn_nbr_4_org_cd</td>\n",
       "    </tr>\n",
       "    <tr>\n",
       "      <th>229497</th>\n",
       "      <td>fas_asgn_nbr_4_org_cd_2</td>\n",
       "      <td>2</td>\n",
       "      <td>fas_asgn_nbr_4_org_cd</td>\n",
       "    </tr>\n",
       "    <tr>\n",
       "      <th>245812</th>\n",
       "      <td>fas_asgn_nbr_4_org_cd_3</td>\n",
       "      <td>3</td>\n",
       "      <td>fas_asgn_nbr_4_org_cd</td>\n",
       "    </tr>\n",
       "    <tr>\n",
       "      <th>261102</th>\n",
       "      <td>fas_asgn_nbr_4_org_cd_4</td>\n",
       "      <td>4</td>\n",
       "      <td>fas_asgn_nbr_4_org_cd</td>\n",
       "    </tr>\n",
       "    <tr>\n",
       "      <th>291686</th>\n",
       "      <td>fas_asgn_nbr_5_org_cd_1</td>\n",
       "      <td>1</td>\n",
       "      <td>fas_asgn_nbr_5_org_cd</td>\n",
       "    </tr>\n",
       "  </tbody>\n",
       "</table>\n",
       "</div>"
      ],
      "text/plain": [
       "                           type seq                asgngrp\n",
       "1       prim_asgn_also_rpt_to_2   2  prim_asgn_also_rpt_to\n",
       "15307   prim_asgn_also_rpt_to_3   3  prim_asgn_also_rpt_to\n",
       "30638   prim_asgn_also_rpt_to_4   4  prim_asgn_also_rpt_to\n",
       "47393   prim_asgn_also_rpt_to_5   5  prim_asgn_also_rpt_to\n",
       "61160   fas_asgn_nbr_2_org_cd_1   1  fas_asgn_nbr_2_org_cd\n",
       "76481   fas_asgn_nbr_2_org_cd_2   2  fas_asgn_nbr_2_org_cd\n",
       "91798   fas_asgn_nbr_2_org_cd_3   3  fas_asgn_nbr_2_org_cd\n",
       "107088  fas_asgn_nbr_2_org_cd_4   4  fas_asgn_nbr_2_org_cd\n",
       "137636  fas_asgn_nbr_3_org_cd_1   1  fas_asgn_nbr_3_org_cd\n",
       "152988  fas_asgn_nbr_3_org_cd_2   2  fas_asgn_nbr_3_org_cd\n",
       "169362  fas_asgn_nbr_3_org_cd_3   3  fas_asgn_nbr_3_org_cd\n",
       "184652  fas_asgn_nbr_3_org_cd_4   4  fas_asgn_nbr_3_org_cd\n",
       "214099  fas_asgn_nbr_4_org_cd_1   1  fas_asgn_nbr_4_org_cd\n",
       "229497  fas_asgn_nbr_4_org_cd_2   2  fas_asgn_nbr_4_org_cd\n",
       "245812  fas_asgn_nbr_4_org_cd_3   3  fas_asgn_nbr_4_org_cd\n",
       "261102  fas_asgn_nbr_4_org_cd_4   4  fas_asgn_nbr_4_org_cd\n",
       "291686  fas_asgn_nbr_5_org_cd_1   1  fas_asgn_nbr_5_org_cd"
      ]
     },
     "execution_count": 85,
     "metadata": {},
     "output_type": "execute_result"
    }
   ],
   "source": [
    "orgdfL[['type','seq','asgngrp']].drop_duplicates()"
   ]
  },
  {
   "cell_type": "code",
   "execution_count": 86,
   "metadata": {},
   "outputs": [
    {
     "data": {
      "text/plain": [
       "type                     seq  asgngrp              \n",
       "fas_asgn_nbr_2_org_cd_1  1    fas_asgn_nbr_2_org_cd     5359\n",
       "fas_asgn_nbr_2_org_cd_2  2    fas_asgn_nbr_2_org_cd      577\n",
       "fas_asgn_nbr_2_org_cd_3  3    fas_asgn_nbr_2_org_cd      106\n",
       "fas_asgn_nbr_2_org_cd_4  4    fas_asgn_nbr_2_org_cd       18\n",
       "fas_asgn_nbr_3_org_cd_1  1    fas_asgn_nbr_3_org_cd      679\n",
       "fas_asgn_nbr_3_org_cd_2  2    fas_asgn_nbr_3_org_cd       84\n",
       "fas_asgn_nbr_3_org_cd_3  3    fas_asgn_nbr_3_org_cd       17\n",
       "fas_asgn_nbr_3_org_cd_4  4    fas_asgn_nbr_3_org_cd        3\n",
       "fas_asgn_nbr_4_org_cd_1  1    fas_asgn_nbr_4_org_cd       64\n",
       "fas_asgn_nbr_4_org_cd_2  2    fas_asgn_nbr_4_org_cd        4\n",
       "fas_asgn_nbr_4_org_cd_3  3    fas_asgn_nbr_4_org_cd        2\n",
       "fas_asgn_nbr_4_org_cd_4  4    fas_asgn_nbr_4_org_cd        1\n",
       "fas_asgn_nbr_5_org_cd_1  1    fas_asgn_nbr_5_org_cd        9\n",
       "prim_asgn_also_rpt_to_2  2    prim_asgn_also_rpt_to    10995\n",
       "prim_asgn_also_rpt_to_3  3    prim_asgn_also_rpt_to     1436\n",
       "prim_asgn_also_rpt_to_4  4    prim_asgn_also_rpt_to      176\n",
       "prim_asgn_also_rpt_to_5  5    prim_asgn_also_rpt_to        1\n",
       "Name: pers_nbr, dtype: int64"
      ]
     },
     "execution_count": 86,
     "metadata": {},
     "output_type": "execute_result"
    }
   ],
   "source": [
    "orgdfL.groupby(['type','seq','asgngrp'])['pers_nbr'].size()"
   ]
  },
  {
   "cell_type": "code",
   "execution_count": 87,
   "metadata": {},
   "outputs": [],
   "source": [
    "OOI = pd.read_sql('select * from  OOI.ooi_ooi_org_struct_cd_lvl_rv', EDW)"
   ]
  },
  {
   "cell_type": "code",
   "execution_count": 88,
   "metadata": {},
   "outputs": [],
   "source": [
    "OOIRTHR = OOI[OOI['structure_type']=='RTHR']"
   ]
  },
  {
   "cell_type": "code",
   "execution_count": 127,
   "metadata": {},
   "outputs": [
    {
     "data": {
      "text/plain": [
       "(19531, 9)"
      ]
     },
     "execution_count": 127,
     "metadata": {},
     "output_type": "execute_result"
    }
   ],
   "source": [
    "orgdfL.shape"
   ]
  },
  {
   "cell_type": "code",
   "execution_count": 92,
   "metadata": {},
   "outputs": [],
   "source": [
    "orgdfL = orgdfL.join(OOIRTHR.set_index('org_code').loc[:,['mau_code','dept_code']], on='org_cd')"
   ]
  },
  {
   "cell_type": "code",
   "execution_count": 99,
   "metadata": {},
   "outputs": [],
   "source": [
    "t=orgdfL[orgdfL['mau_code'].isnull()  ]"
   ]
  },
  {
   "cell_type": "code",
   "execution_count": 97,
   "metadata": {},
   "outputs": [
    {
     "data": {
      "text/plain": [
       "pers_nbr               int64\n",
       "start_date    datetime64[ns]\n",
       "end_date              object\n",
       "type                  object\n",
       "org_cd                object\n",
       "seq                   object\n",
       "asgngrp               object\n",
       "mau_code              object\n",
       "dept_code             object\n",
       "dtype: object"
      ]
     },
     "execution_count": 97,
     "metadata": {},
     "output_type": "execute_result"
    }
   ],
   "source": [
    "orgdfL.dtypes"
   ]
  },
  {
   "cell_type": "code",
   "execution_count": 122,
   "metadata": {},
   "outputs": [
    {
     "data": {
      "text/html": [
       "<div>\n",
       "<style scoped>\n",
       "    .dataframe tbody tr th:only-of-type {\n",
       "        vertical-align: middle;\n",
       "    }\n",
       "\n",
       "    .dataframe tbody tr th {\n",
       "        vertical-align: top;\n",
       "    }\n",
       "\n",
       "    .dataframe thead th {\n",
       "        text-align: right;\n",
       "    }\n",
       "</style>\n",
       "<table border=\"1\" class=\"dataframe\">\n",
       "  <thead>\n",
       "    <tr style=\"text-align: right;\">\n",
       "      <th></th>\n",
       "      <th>pers_nbr</th>\n",
       "      <th>start_date</th>\n",
       "      <th>end_date</th>\n",
       "      <th>type</th>\n",
       "      <th>org_cd</th>\n",
       "      <th>mau_code</th>\n",
       "      <th>dept_code</th>\n",
       "    </tr>\n",
       "  </thead>\n",
       "  <tbody>\n",
       "    <tr>\n",
       "      <th>929</th>\n",
       "      <td>19349</td>\n",
       "      <td>2011-06-15</td>\n",
       "      <td>9999-12-31 00:00:00</td>\n",
       "      <td>prim_asgn_also_rpt_to_2</td>\n",
       "      <td>10057673</td>\n",
       "      <td>NaN</td>\n",
       "      <td>NaN</td>\n",
       "    </tr>\n",
       "    <tr>\n",
       "      <th>2246</th>\n",
       "      <td>31967</td>\n",
       "      <td>2010-12-17</td>\n",
       "      <td>9999-12-31 00:00:00</td>\n",
       "      <td>prim_asgn_also_rpt_to_2</td>\n",
       "      <td>10057210</td>\n",
       "      <td>NaN</td>\n",
       "      <td>NaN</td>\n",
       "    </tr>\n",
       "    <tr>\n",
       "      <th>2536</th>\n",
       "      <td>33272</td>\n",
       "      <td>2010-12-17</td>\n",
       "      <td>9999-12-31 00:00:00</td>\n",
       "      <td>prim_asgn_also_rpt_to_2</td>\n",
       "      <td>10002210</td>\n",
       "      <td>NaN</td>\n",
       "      <td>NaN</td>\n",
       "    </tr>\n",
       "    <tr>\n",
       "      <th>3217</th>\n",
       "      <td>37655</td>\n",
       "      <td>2011-01-16</td>\n",
       "      <td>9999-12-31 00:00:00</td>\n",
       "      <td>prim_asgn_also_rpt_to_2</td>\n",
       "      <td>10057673</td>\n",
       "      <td>NaN</td>\n",
       "      <td>NaN</td>\n",
       "    </tr>\n",
       "    <tr>\n",
       "      <th>4148</th>\n",
       "      <td>48763</td>\n",
       "      <td>2010-12-17</td>\n",
       "      <td>9999-12-31 00:00:00</td>\n",
       "      <td>prim_asgn_also_rpt_to_2</td>\n",
       "      <td>10057673</td>\n",
       "      <td>NaN</td>\n",
       "      <td>NaN</td>\n",
       "    </tr>\n",
       "    <tr>\n",
       "      <th>4573</th>\n",
       "      <td>40304</td>\n",
       "      <td>2011-06-15</td>\n",
       "      <td>9999-12-31 00:00:00</td>\n",
       "      <td>prim_asgn_also_rpt_to_2</td>\n",
       "      <td>10057673</td>\n",
       "      <td>NaN</td>\n",
       "      <td>NaN</td>\n",
       "    </tr>\n",
       "    <tr>\n",
       "      <th>6040</th>\n",
       "      <td>55049</td>\n",
       "      <td>2011-06-15</td>\n",
       "      <td>9999-12-31 00:00:00</td>\n",
       "      <td>prim_asgn_also_rpt_to_2</td>\n",
       "      <td>10057210</td>\n",
       "      <td>NaN</td>\n",
       "      <td>NaN</td>\n",
       "    </tr>\n",
       "    <tr>\n",
       "      <th>8461</th>\n",
       "      <td>6390</td>\n",
       "      <td>2012-08-01</td>\n",
       "      <td>9999-12-31 00:00:00</td>\n",
       "      <td>prim_asgn_also_rpt_to_2</td>\n",
       "      <td>10057210</td>\n",
       "      <td>NaN</td>\n",
       "      <td>NaN</td>\n",
       "    </tr>\n",
       "    <tr>\n",
       "      <th>14055</th>\n",
       "      <td>117526</td>\n",
       "      <td>2012-09-01</td>\n",
       "      <td>9999-12-31 00:00:00</td>\n",
       "      <td>prim_asgn_also_rpt_to_2</td>\n",
       "      <td>10002210</td>\n",
       "      <td>NaN</td>\n",
       "      <td>NaN</td>\n",
       "    </tr>\n",
       "    <tr>\n",
       "      <th>18031</th>\n",
       "      <td>33580</td>\n",
       "      <td>2010-12-17</td>\n",
       "      <td>9999-12-31 00:00:00</td>\n",
       "      <td>prim_asgn_also_rpt_to_3</td>\n",
       "      <td>10058285</td>\n",
       "      <td>NaN</td>\n",
       "      <td>NaN</td>\n",
       "    </tr>\n",
       "    <tr>\n",
       "      <th>21288</th>\n",
       "      <td>53101</td>\n",
       "      <td>2011-10-01</td>\n",
       "      <td>9999-12-31 00:00:00</td>\n",
       "      <td>prim_asgn_also_rpt_to_3</td>\n",
       "      <td>10057673</td>\n",
       "      <td>NaN</td>\n",
       "      <td>NaN</td>\n",
       "    </tr>\n",
       "    <tr>\n",
       "      <th>36578</th>\n",
       "      <td>53101</td>\n",
       "      <td>2011-10-01</td>\n",
       "      <td>9999-12-31 00:00:00</td>\n",
       "      <td>prim_asgn_also_rpt_to_4</td>\n",
       "      <td>10058673</td>\n",
       "      <td>NaN</td>\n",
       "      <td>NaN</td>\n",
       "    </tr>\n",
       "    <tr>\n",
       "      <th>61466</th>\n",
       "      <td>15316</td>\n",
       "      <td>2014-07-01</td>\n",
       "      <td>9999-12-31 00:00:00</td>\n",
       "      <td>fas_asgn_nbr_2_org_cd_1</td>\n",
       "      <td>10085657</td>\n",
       "      <td>NaN</td>\n",
       "      <td>NaN</td>\n",
       "    </tr>\n",
       "    <tr>\n",
       "      <th>72721</th>\n",
       "      <td>5846</td>\n",
       "      <td>2011-10-15</td>\n",
       "      <td>9999-12-31 00:00:00</td>\n",
       "      <td>fas_asgn_nbr_2_org_cd_1</td>\n",
       "      <td>10000003</td>\n",
       "      <td>None</td>\n",
       "      <td>None</td>\n",
       "    </tr>\n",
       "    <tr>\n",
       "      <th>79191</th>\n",
       "      <td>33580</td>\n",
       "      <td>2010-12-17</td>\n",
       "      <td>9999-12-31 00:00:00</td>\n",
       "      <td>fas_asgn_nbr_2_org_cd_2</td>\n",
       "      <td>10058285</td>\n",
       "      <td>NaN</td>\n",
       "      <td>NaN</td>\n",
       "    </tr>\n",
       "  </tbody>\n",
       "</table>\n",
       "</div>"
      ],
      "text/plain": [
       "       pers_nbr start_date             end_date                     type  \\\n",
       "929       19349 2011-06-15  9999-12-31 00:00:00  prim_asgn_also_rpt_to_2   \n",
       "2246      31967 2010-12-17  9999-12-31 00:00:00  prim_asgn_also_rpt_to_2   \n",
       "2536      33272 2010-12-17  9999-12-31 00:00:00  prim_asgn_also_rpt_to_2   \n",
       "3217      37655 2011-01-16  9999-12-31 00:00:00  prim_asgn_also_rpt_to_2   \n",
       "4148      48763 2010-12-17  9999-12-31 00:00:00  prim_asgn_also_rpt_to_2   \n",
       "4573      40304 2011-06-15  9999-12-31 00:00:00  prim_asgn_also_rpt_to_2   \n",
       "6040      55049 2011-06-15  9999-12-31 00:00:00  prim_asgn_also_rpt_to_2   \n",
       "8461       6390 2012-08-01  9999-12-31 00:00:00  prim_asgn_also_rpt_to_2   \n",
       "14055    117526 2012-09-01  9999-12-31 00:00:00  prim_asgn_also_rpt_to_2   \n",
       "18031     33580 2010-12-17  9999-12-31 00:00:00  prim_asgn_also_rpt_to_3   \n",
       "21288     53101 2011-10-01  9999-12-31 00:00:00  prim_asgn_also_rpt_to_3   \n",
       "36578     53101 2011-10-01  9999-12-31 00:00:00  prim_asgn_also_rpt_to_4   \n",
       "61466     15316 2014-07-01  9999-12-31 00:00:00  fas_asgn_nbr_2_org_cd_1   \n",
       "72721      5846 2011-10-15  9999-12-31 00:00:00  fas_asgn_nbr_2_org_cd_1   \n",
       "79191     33580 2010-12-17  9999-12-31 00:00:00  fas_asgn_nbr_2_org_cd_2   \n",
       "\n",
       "         org_cd mau_code dept_code  \n",
       "929    10057673      NaN       NaN  \n",
       "2246   10057210      NaN       NaN  \n",
       "2536   10002210      NaN       NaN  \n",
       "3217   10057673      NaN       NaN  \n",
       "4148   10057673      NaN       NaN  \n",
       "4573   10057673      NaN       NaN  \n",
       "6040   10057210      NaN       NaN  \n",
       "8461   10057210      NaN       NaN  \n",
       "14055  10002210      NaN       NaN  \n",
       "18031  10058285      NaN       NaN  \n",
       "21288  10057673      NaN       NaN  \n",
       "36578  10058673      NaN       NaN  \n",
       "61466  10085657      NaN       NaN  \n",
       "72721  10000003     None      None  \n",
       "79191  10058285      NaN       NaN  "
      ]
     },
     "execution_count": 122,
     "metadata": {},
     "output_type": "execute_result"
    }
   ],
   "source": [
    "import datetime\n",
    "t[t['end_date']>=datetime.datetime.now()].drop(['asgngrp','seq'],axis=1)"
   ]
  },
  {
   "cell_type": "code",
   "execution_count": 125,
   "metadata": {},
   "outputs": [
    {
     "data": {
      "text/html": [
       "<div>\n",
       "<style scoped>\n",
       "    .dataframe tbody tr th:only-of-type {\n",
       "        vertical-align: middle;\n",
       "    }\n",
       "\n",
       "    .dataframe tbody tr th {\n",
       "        vertical-align: top;\n",
       "    }\n",
       "\n",
       "    .dataframe thead th {\n",
       "        text-align: right;\n",
       "    }\n",
       "</style>\n",
       "<table border=\"1\" class=\"dataframe\">\n",
       "  <thead>\n",
       "    <tr style=\"text-align: right;\">\n",
       "      <th></th>\n",
       "      <th>org_code</th>\n",
       "      <th>org_full_name</th>\n",
       "      <th>org_type</th>\n",
       "      <th>org_type_desc</th>\n",
       "      <th>org_type_level</th>\n",
       "      <th>structure_type</th>\n",
       "      <th>structure_type_name</th>\n",
       "      <th>org_structure_code</th>\n",
       "      <th>campus_oid</th>\n",
       "      <th>campus_name</th>\n",
       "      <th>...</th>\n",
       "      <th>u6_oid</th>\n",
       "      <th>u6_name</th>\n",
       "      <th>u6_code</th>\n",
       "      <th>u7_oid</th>\n",
       "      <th>u7_name</th>\n",
       "      <th>u7_code</th>\n",
       "      <th>created_by</th>\n",
       "      <th>create_date</th>\n",
       "      <th>last_updated_by</th>\n",
       "      <th>last_update_date</th>\n",
       "    </tr>\n",
       "  </thead>\n",
       "  <tbody>\n",
       "    <tr>\n",
       "      <th>5000</th>\n",
       "      <td>10057210</td>\n",
       "      <td>CROP AND SOIL SCIENCE MABR</td>\n",
       "      <td>U1</td>\n",
       "      <td>UNIT LEVEL 1</td>\n",
       "      <td>60</td>\n",
       "      <td>D03</td>\n",
       "      <td>Legacy</td>\n",
       "      <td>11P572102000000</td>\n",
       "      <td>10000001</td>\n",
       "      <td>EAST LANSING</td>\n",
       "      <td>...</td>\n",
       "      <td>None</td>\n",
       "      <td>None</td>\n",
       "      <td>None</td>\n",
       "      <td>None</td>\n",
       "      <td>None</td>\n",
       "      <td>None</td>\n",
       "      <td>PR_OOI_OOI_ORG_STRUCT_CD_LVL_R</td>\n",
       "      <td>2018-07-20 00:47:29</td>\n",
       "      <td>PR_OOI_OOI_ORG_STRUCT_CD_LVL_R</td>\n",
       "      <td>2018-07-20 00:47:29</td>\n",
       "    </tr>\n",
       "    <tr>\n",
       "      <th>5001</th>\n",
       "      <td>10057210</td>\n",
       "      <td>CROP AND SOIL SCIENCE MABR</td>\n",
       "      <td>U1</td>\n",
       "      <td>UNIT LEVEL 1</td>\n",
       "      <td>60</td>\n",
       "      <td>RS</td>\n",
       "      <td>Reference Structure</td>\n",
       "      <td>11P022102000000</td>\n",
       "      <td>10000001</td>\n",
       "      <td>EAST LANSING</td>\n",
       "      <td>...</td>\n",
       "      <td>None</td>\n",
       "      <td>None</td>\n",
       "      <td>None</td>\n",
       "      <td>None</td>\n",
       "      <td>None</td>\n",
       "      <td>None</td>\n",
       "      <td>PR_OOI_OOI_ORG_STRUCT_CD_LVL_R</td>\n",
       "      <td>2018-07-20 00:47:29</td>\n",
       "      <td>PR_OOI_OOI_ORG_STRUCT_CD_LVL_R</td>\n",
       "      <td>2018-07-20 00:47:29</td>\n",
       "    </tr>\n",
       "  </tbody>\n",
       "</table>\n",
       "<p>2 rows × 45 columns</p>\n",
       "</div>"
      ],
      "text/plain": [
       "      org_code               org_full_name org_type org_type_desc  \\\n",
       "5000  10057210  CROP AND SOIL SCIENCE MABR       U1  UNIT LEVEL 1   \n",
       "5001  10057210  CROP AND SOIL SCIENCE MABR       U1  UNIT LEVEL 1   \n",
       "\n",
       "      org_type_level structure_type  structure_type_name org_structure_code  \\\n",
       "5000              60            D03               Legacy    11P572102000000   \n",
       "5001              60             RS  Reference Structure    11P022102000000   \n",
       "\n",
       "     campus_oid   campus_name         ...         u6_oid u6_name u6_code  \\\n",
       "5000   10000001  EAST LANSING         ...           None    None    None   \n",
       "5001   10000001  EAST LANSING         ...           None    None    None   \n",
       "\n",
       "     u7_oid u7_name u7_code                      created_by  \\\n",
       "5000   None    None    None  PR_OOI_OOI_ORG_STRUCT_CD_LVL_R   \n",
       "5001   None    None    None  PR_OOI_OOI_ORG_STRUCT_CD_LVL_R   \n",
       "\n",
       "             create_date                 last_updated_by    last_update_date  \n",
       "5000 2018-07-20 00:47:29  PR_OOI_OOI_ORG_STRUCT_CD_LVL_R 2018-07-20 00:47:29  \n",
       "5001 2018-07-20 00:47:29  PR_OOI_OOI_ORG_STRUCT_CD_LVL_R 2018-07-20 00:47:29  \n",
       "\n",
       "[2 rows x 45 columns]"
      ]
     },
     "execution_count": 125,
     "metadata": {},
     "output_type": "execute_result"
    }
   ],
   "source": [
    "OOI[OOI['org_code']=='10057210']"
   ]
  },
  {
   "cell_type": "code",
   "execution_count": 160,
   "metadata": {},
   "outputs": [],
   "source": [
    "asgncol  =[x for x in ASGN.columns if not re.match(r'prim_asgn_also_rpt_to_\\d',x) and not re.match(r'\\w+_org_cd_\\d+',x) ]"
   ]
  },
  {
   "cell_type": "code",
   "execution_count": 161,
   "metadata": {},
   "outputs": [],
   "source": [
    "asgndf = ASGN.filter(items=asgncol).set_index(['pers_nbr','start_date','end_date']).\\\n",
    "            filter(regex= r'\\w+_\\d')\n"
   ]
  },
  {
   "cell_type": "code",
   "execution_count": 162,
   "metadata": {},
   "outputs": [],
   "source": [
    "asgndfL = asgndf.stack().reset_index().rename(columns={'level_3':'variable',0:'value'})"
   ]
  },
  {
   "cell_type": "code",
   "execution_count": 163,
   "metadata": {},
   "outputs": [
    {
     "name": "stderr",
     "output_type": "stream",
     "text": [
      "C:\\Users\\chendi4\\AppData\\Local\\Continuum\\anaconda3\\lib\\site-packages\\ipykernel_launcher.py:1: FutureWarning: currently extract(expand=None) means expand=False (return Index/Series/DataFrame) but in a future version of pandas this will be changed to expand=True (return DataFrame)\n",
      "  \"\"\"Entry point for launching an IPython kernel.\n",
      "C:\\Users\\chendi4\\AppData\\Local\\Continuum\\anaconda3\\lib\\site-packages\\ipykernel_launcher.py:2: FutureWarning: currently extract(expand=None) means expand=False (return Index/Series/DataFrame) but in a future version of pandas this will be changed to expand=True (return DataFrame)\n",
      "  \n"
     ]
    }
   ],
   "source": [
    "asgndfL['seq']= asgndfL['variable'].str.extract(r'\\w+_(\\d)$') \n",
    "asgndfL['grp']= asgndfL['variable'].str.extract(r'(\\w+)_\\d$')"
   ]
  },
  {
   "cell_type": "code",
   "execution_count": 168,
   "metadata": {},
   "outputs": [],
   "source": [
    "asgndfL =  asgndfL.drop('variable',axis=1).set_index(['pers_nbr','start_date','end_date','seq','grp']).unstack()"
   ]
  },
  {
   "cell_type": "code",
   "execution_count": 170,
   "metadata": {},
   "outputs": [],
   "source": [
    "asgndfL.columns=asgndfL.columns.droplevel()"
   ]
  },
  {
   "cell_type": "code",
   "execution_count": 172,
   "metadata": {},
   "outputs": [],
   "source": [
    "asgndfL= asgndfL.reset_index()"
   ]
  },
  {
   "cell_type": "code",
   "execution_count": 173,
   "metadata": {},
   "outputs": [
    {
     "data": {
      "text/html": [
       "<div>\n",
       "<style scoped>\n",
       "    .dataframe tbody tr th:only-of-type {\n",
       "        vertical-align: middle;\n",
       "    }\n",
       "\n",
       "    .dataframe tbody tr th {\n",
       "        vertical-align: top;\n",
       "    }\n",
       "\n",
       "    .dataframe thead th {\n",
       "        text-align: right;\n",
       "    }\n",
       "</style>\n",
       "<table border=\"1\" class=\"dataframe\">\n",
       "  <thead>\n",
       "    <tr style=\"text-align: right;\">\n",
       "      <th>grp</th>\n",
       "      <th>pers_nbr</th>\n",
       "      <th>start_date</th>\n",
       "      <th>end_date</th>\n",
       "      <th>seq</th>\n",
       "      <th>asgn_typ_cd</th>\n",
       "      <th>asgn_typ_nm</th>\n",
       "      <th>emp_cat_cd</th>\n",
       "      <th>emp_cat_nm</th>\n",
       "      <th>endow_ind</th>\n",
       "      <th>fac_rnk_cd</th>\n",
       "      <th>fac_rnk_nm</th>\n",
       "      <th>fac_ttl_ind</th>\n",
       "      <th>fas_asgn_long_nm</th>\n",
       "      <th>fas_asgn_nbr</th>\n",
       "      <th>fas_asgn_nm</th>\n",
       "      <th>shrt_txt</th>\n",
       "    </tr>\n",
       "  </thead>\n",
       "  <tbody>\n",
       "    <tr>\n",
       "      <th>0</th>\n",
       "      <td>1004</td>\n",
       "      <td>2010-12-17</td>\n",
       "      <td>2011-01-23 00:00:00</td>\n",
       "      <td>2</td>\n",
       "      <td>None</td>\n",
       "      <td>None</td>\n",
       "      <td>FT9</td>\n",
       "      <td>Other Title</td>\n",
       "      <td>N</td>\n",
       "      <td>None</td>\n",
       "      <td>None</td>\n",
       "      <td>Y</td>\n",
       "      <td>DIRECTOR III</td>\n",
       "      <td>2067</td>\n",
       "      <td>DIRECTOR I</td>\n",
       "      <td>FT90990</td>\n",
       "    </tr>\n",
       "    <tr>\n",
       "      <th>1</th>\n",
       "      <td>1004</td>\n",
       "      <td>2010-12-17</td>\n",
       "      <td>2011-01-23 00:00:00</td>\n",
       "      <td>3</td>\n",
       "      <td>None</td>\n",
       "      <td>None</td>\n",
       "      <td>FF9</td>\n",
       "      <td>Faculty</td>\n",
       "      <td>N</td>\n",
       "      <td>9FR4</td>\n",
       "      <td>Faculty Rank Level 40</td>\n",
       "      <td>N</td>\n",
       "      <td>UNIVERSITY DISTINGUISHED PROFESSOR</td>\n",
       "      <td>2154</td>\n",
       "      <td>UNIV DISTINGUISHED PROFESSOR</td>\n",
       "      <td>FF92290</td>\n",
       "    </tr>\n",
       "    <tr>\n",
       "      <th>2</th>\n",
       "      <td>1004</td>\n",
       "      <td>2010-12-17</td>\n",
       "      <td>2011-01-23 00:00:00</td>\n",
       "      <td>4</td>\n",
       "      <td>None</td>\n",
       "      <td>None</td>\n",
       "      <td>None</td>\n",
       "      <td>None</td>\n",
       "      <td>None</td>\n",
       "      <td>None</td>\n",
       "      <td>None</td>\n",
       "      <td>N</td>\n",
       "      <td>None</td>\n",
       "      <td>0</td>\n",
       "      <td>None</td>\n",
       "      <td>None</td>\n",
       "    </tr>\n",
       "    <tr>\n",
       "      <th>3</th>\n",
       "      <td>1004</td>\n",
       "      <td>2010-12-17</td>\n",
       "      <td>2011-01-23 00:00:00</td>\n",
       "      <td>5</td>\n",
       "      <td>None</td>\n",
       "      <td>None</td>\n",
       "      <td>None</td>\n",
       "      <td>None</td>\n",
       "      <td>None</td>\n",
       "      <td>None</td>\n",
       "      <td>None</td>\n",
       "      <td>N</td>\n",
       "      <td>None</td>\n",
       "      <td>0</td>\n",
       "      <td>None</td>\n",
       "      <td>None</td>\n",
       "    </tr>\n",
       "    <tr>\n",
       "      <th>4</th>\n",
       "      <td>1004</td>\n",
       "      <td>2011-01-24</td>\n",
       "      <td>2012-01-22 00:00:00</td>\n",
       "      <td>2</td>\n",
       "      <td>None</td>\n",
       "      <td>None</td>\n",
       "      <td>FT9</td>\n",
       "      <td>Other Title</td>\n",
       "      <td>N</td>\n",
       "      <td>None</td>\n",
       "      <td>None</td>\n",
       "      <td>Y</td>\n",
       "      <td>DIRECTOR III</td>\n",
       "      <td>2067</td>\n",
       "      <td>DIRECTOR I</td>\n",
       "      <td>FT90990</td>\n",
       "    </tr>\n",
       "  </tbody>\n",
       "</table>\n",
       "</div>"
      ],
      "text/plain": [
       "grp  pers_nbr start_date             end_date seq asgn_typ_cd asgn_typ_nm  \\\n",
       "0        1004 2010-12-17  2011-01-23 00:00:00   2        None        None   \n",
       "1        1004 2010-12-17  2011-01-23 00:00:00   3        None        None   \n",
       "2        1004 2010-12-17  2011-01-23 00:00:00   4        None        None   \n",
       "3        1004 2010-12-17  2011-01-23 00:00:00   5        None        None   \n",
       "4        1004 2011-01-24  2012-01-22 00:00:00   2        None        None   \n",
       "\n",
       "grp emp_cat_cd   emp_cat_nm endow_ind fac_rnk_cd             fac_rnk_nm  \\\n",
       "0          FT9  Other Title         N       None                   None   \n",
       "1          FF9      Faculty         N       9FR4  Faculty Rank Level 40   \n",
       "2         None         None      None       None                   None   \n",
       "3         None         None      None       None                   None   \n",
       "4          FT9  Other Title         N       None                   None   \n",
       "\n",
       "grp fac_ttl_ind                    fas_asgn_long_nm fas_asgn_nbr  \\\n",
       "0             Y                        DIRECTOR III         2067   \n",
       "1             N  UNIVERSITY DISTINGUISHED PROFESSOR         2154   \n",
       "2             N                                None            0   \n",
       "3             N                                None            0   \n",
       "4             Y                        DIRECTOR III         2067   \n",
       "\n",
       "grp                   fas_asgn_nm shrt_txt  \n",
       "0                      DIRECTOR I  FT90990  \n",
       "1    UNIV DISTINGUISHED PROFESSOR  FF92290  \n",
       "2                            None     None  \n",
       "3                            None     None  \n",
       "4                      DIRECTOR I  FT90990  "
      ]
     },
     "execution_count": 173,
     "metadata": {},
     "output_type": "execute_result"
    }
   ],
   "source": [
    "asgndfL.head()"
   ]
  },
  {
   "cell_type": "code",
   "execution_count": 174,
   "metadata": {},
   "outputs": [
    {
     "data": {
      "text/plain": [
       "(61160, 16)"
      ]
     },
     "execution_count": 174,
     "metadata": {},
     "output_type": "execute_result"
    }
   ],
   "source": [
    "asgndfL.shape"
   ]
  },
  {
   "cell_type": "code",
   "execution_count": null,
   "metadata": {},
   "outputs": [],
   "source": []
  }
 ],
 "metadata": {
  "kernelspec": {
   "display_name": "Python 3",
   "language": "python",
   "name": "python3"
  },
  "language_info": {
   "codemirror_mode": {
    "name": "ipython",
    "version": 3
   },
   "file_extension": ".py",
   "mimetype": "text/x-python",
   "name": "python",
   "nbconvert_exporter": "python",
   "pygments_lexer": "ipython3",
   "version": "3.6.4"
  }
 },
 "nbformat": 4,
 "nbformat_minor": 2
}
